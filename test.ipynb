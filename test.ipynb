{
 "cells": [
  {
   "cell_type": "code",
   "execution_count": 69,
   "metadata": {},
   "outputs": [
    {
     "name": "stdout",
     "output_type": "stream",
     "text": [
      "{'name': 'Sorna', 'valid': True}\n",
      "message has been sent\n",
      "{'name': 'Sorna', 'valid': False}\n",
      "The user is not valid\n"
     ]
    }
   ],
   "source": [
    "\n",
    "user1 = {\n",
    "    'name': 'Sorna',\n",
    "    'valid': True \n",
    "}\n",
    "user2 = {\n",
    "    'name': 'Sorna',\n",
    "    'valid': False  \n",
    "}\n",
    "def authenticated(fn):\n",
    "    def wrapper(*args, **kwargs):\n",
    "        print(args[0]) \n",
    "        if args[0]['valid']:\n",
    "            fn(*args, **kwargs)\n",
    "        else:\n",
    "            print(\"The user is not valid\")\n",
    "    return wrapper\n",
    "\n",
    "\n",
    "@authenticated\n",
    "def message_friends(user):\n",
    "    print('message has been sent')\n",
    "message_friends(user1)\n",
    "message_friends(user2)"
   ]
  },
  {
   "cell_type": "code",
   "execution_count": 70,
   "metadata": {},
   "outputs": [
    {
     "name": "stdout",
     "output_type": "stream",
     "text": [
      "['__add__', '__class__', '__contains__', '__delattr__', '__delitem__', '__dir__', '__doc__', '__eq__', '__format__', '__ge__', '__getattribute__', '__getitem__', '__gt__', '__hash__', '__iadd__', '__imul__', '__init__', '__init_subclass__', '__iter__', '__le__', '__len__', '__lt__', '__mul__', '__ne__', '__new__', '__reduce__', '__reduce_ex__', '__repr__', '__reversed__', '__rmul__', '__setattr__', '__setitem__', '__sizeof__', '__str__', '__subclasshook__', 'append', 'clear', 'copy', 'count', 'extend', 'index', 'insert', 'pop', 'remove', 'reverse', 'sort']\n"
     ]
    }
   ],
   "source": [
    "\n",
    "dir_list = dir(list)\n",
    "print(dir_list)"
   ]
  },
  {
   "cell_type": "code",
   "execution_count": 147,
   "metadata": {},
   "outputs": [
    {
     "name": "stdout",
     "output_type": "stream",
     "text": [
      "[10, 20, 30, 40, 50, 60, 70, 80]\n",
      "[10, 20, 70, 80]\n",
      "['__add__', '__class__', '__contains__', '__delattr__', '__delitem__', '__dir__', '__doc__', '__eq__', '__format__', '__ge__', '__getattribute__', '__getitem__', '__gt__', '__hash__', '__iadd__', '__imul__', '__init__', '__init_subclass__', '__iter__', '__le__', '__len__', '__lt__', '__mul__', '__ne__', '__new__', '__reduce__', '__reduce_ex__', '__repr__', '__reversed__', '__rmul__', '__setattr__', '__setitem__', '__sizeof__', '__str__', '__subclasshook__', 'append', 'clear', 'copy', 'count', 'extend', 'index', 'insert', 'pop', 'remove', 'reverse', 'sort']\n",
      "4\n",
      "2\n",
      "[4, 5, 10, 29]\n",
      "[4, 5, 10, 29]\n",
      "[10, 5, 29, 4]\n",
      "['a', 'c', 't']\n"
     ]
    }
   ],
   "source": [
    "s = [10, 20, 30, 40]\n",
    "t = [50, 60, 70, 80]\n",
    "u = s + t\n",
    "print(u)\n",
    "concatenated_slice = u[:2] + u[-2:]\n",
    "print(concatenated_slice)\n",
    "dir_list = dir(list)\n",
    "print(dir_list)\n",
    "s = 'abrakadabra'\n",
    "index_k = s.index('k')\n",
    "count_b = s.count('b')\n",
    "print(index_k)\n",
    "print(count_b)\n",
    "s = [10, 5, 29, 4]\n",
    "s.sort()\n",
    "print(s)\n",
    "s = [10, 5, 29, 4]\n",
    "sorted_s = sorted(s)\n",
    "print(sorted_s)\n",
    "print(s)\n",
    "sorted_cat = sorted('cat')\n",
    "print(sorted_cat)"
   ]
  },
  {
   "cell_type": "code",
   "execution_count": 16,
   "metadata": {},
   "outputs": [
    {
     "name": "stdout",
     "output_type": "stream",
     "text": [
      "('meet', 'tanvi', 'jit', 'ram')\n"
     ]
    }
   ],
   "source": [
    "def function_name(*args):\n",
    "    print(args)\n",
    "\n",
    "function_name(\"meet\",\"tanvi\",\"jit\",\"ram\")\n"
   ]
  },
  {
   "cell_type": "code",
   "execution_count": 45,
   "metadata": {},
   "outputs": [
    {
     "name": "stdout",
     "output_type": "stream",
     "text": [
      "Printing after 5 seconds, counting 1 Mississippi, 2 Mississippi, ... 5 Mississippi\n",
      "1 Mississippi\n",
      "2 Mississippi\n",
      "3 Mississippi\n",
      "4 Mississippi\n",
      "5 Mississippi\n",
      "Current time in seconds since the epoch: 1685085083.503113\n",
      "Current time in a formatted string: Fri May 26 12:41:23 2023\n"
     ]
    }
   ],
   "source": [
    "import time\n",
    "time.sleep(5)\n",
    "print(\"Printing after 5 seconds, counting 1 Mississippi, 2 Mississippi, ... 5 Mississippi\")\n",
    "for i in range(1, 6):\n",
    "    print(f\"{i} Mississippi\")\n",
    "    time.sleep(1)\n",
    "current_time = time.time()\n",
    "print(\"Current time in seconds since the epoch:\", current_time)\n",
    "formatted_time = time.ctime()\n",
    "print(\"Current time in a formatted string:\", formatted_time)\n"
   ]
  },
  {
   "cell_type": "code",
   "execution_count": 49,
   "metadata": {},
   "outputs": [
    {
     "name": "stdout",
     "output_type": "stream",
     "text": [
      "I am a normal argument and the students are:\n",
      "harry\n",
      "roshan\n",
      "meet\n",
      "yash\n",
      "satyam\n",
      "\n",
      " now I would like to inttroducemsome of our heroes\n"
     ]
    }
   ],
   "source": [
    "# def name_print(a,b,c,d):\n",
    "#     print(a,b,c,d)\n",
    "def funtion(*args,**kwargs):\n",
    "    print(normal)\n",
    "    for item in args:\n",
    "        print(item)\n",
    "    print(\"\\n now I would like to inttroducemsome of our heroes\")\n",
    "\n",
    "\n",
    "har= [\"harry\",\"roshan\",\"meet\",\"yash\",\"satyam\"]\n",
    "# name_print(\"harry\",\"roshn\",\"meet\",\"yash\")\n",
    "normal = \"I am a normal argument and the students are:\"\n",
    "funtion(*har)\n"
   ]
  }
 ],
 "metadata": {
  "kernelspec": {
   "display_name": "Python 3",
   "language": "python",
   "name": "python3"
  },
  "language_info": {
   "codemirror_mode": {
    "name": "ipython",
    "version": 3
   },
   "file_extension": ".py",
   "mimetype": "text/x-python",
   "name": "python",
   "nbconvert_exporter": "python",
   "pygments_lexer": "ipython3",
   "version": "3.8.10"
  },
  "orig_nbformat": 4
 },
 "nbformat": 4,
 "nbformat_minor": 2
}
